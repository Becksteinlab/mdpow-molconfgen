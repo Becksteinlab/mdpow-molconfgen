{
 "cells": [
  {
   "cell_type": "markdown",
   "id": "0aba1a98-b121-4eb3-8f91-8c62288e6db4",
   "metadata": {},
   "source": [
    "# Conformer generation for small molecules\n",
    "\n",
    "## Background ##\n",
    "### Algorithm ###\n",
    "\n",
    "Given a list of $N$ dihedral angles (torsions) `dihedrals`\n",
    "\n",
    "1. generate all conformers by rotating all torsions in increments $\\delta\\phi$ for a total of $(2\\pi/\\delta\\phi)^N$ conformers (cartesian product)\n",
    "2. write to a trajectory\n",
    "\n",
    "### Implementation notes ###\n",
    "\n",
    "1. Load molecules with MDAnalysis.\n",
    "2. Convert to RDKit molecule.\n",
    "3. Perform torsion drive with [rdkit.Chem.rdMolTransforms](https://www.rdkit.org/docs/source/rdkit.Chem.rdMolTransforms.html)\n",
    "\n",
    "```\n",
    "rdkit.Chem.rdMolTransforms.SetDihedralDeg((Conformer)arg1, (int)arg2, (int)arg3, (int)arg4, (int)arg5, (float)arg6) → None :\n",
    "\n",
    "    Sets the dihedral angle in degrees between atoms i, j, k, l; all atoms bonded to atom l are moved\n",
    "```\n",
    "\n",
    "### Initial test data ###\n",
    "#### COW dataset ####\n",
    "\n",
    "`/Users/oliver/Projects/Methods/SAMPL5/sampl5-distribution-water-cyclohexane/11_validation_dataset92`\n",
    "\n",
    "- V36-methylacetate : 1 dihedral\n",
    "- V46-2-methyl-1-nitrobenzene : steric hindrance\n",
    "- V39-butylacetate : 4 dihedrals\n"
   ]
  },
  {
   "cell_type": "markdown",
   "id": "d30854da-5127-4d06-8722-23075a5a4745",
   "metadata": {},
   "source": [
    "## Setup\n",
    "### Packages"
   ]
  },
  {
   "cell_type": "code",
   "execution_count": 145,
   "id": "ae79bbd7-6c62-46b9-a998-eef8a78b256b",
   "metadata": {},
   "outputs": [],
   "source": [
    "import MDAnalysis as mda\n",
    "import rdkit\n",
    "import rdkit.Chem.rdMolTransforms\n",
    "from rdkit.Chem.rdMolTransforms import SetDihedralDeg\n",
    "import numpy as np\n",
    "\n",
    "import pathlib\n",
    "import itertools"
   ]
  },
  {
   "cell_type": "code",
   "execution_count": 4,
   "id": "1dad0cff-2997-4a29-acff-12a41079c943",
   "metadata": {},
   "outputs": [
    {
     "name": "stdout",
     "output_type": "stream",
     "text": [
      "2.5.0\n",
      "2023.03.2\n"
     ]
    }
   ],
   "source": [
    "print(mda.__version__)\n",
    "print(rdkit.__version__)"
   ]
  },
  {
   "cell_type": "markdown",
   "id": "2238d33d-ff24-49b4-a566-8927f6fa4cde",
   "metadata": {},
   "source": [
    "Nicer RDKit output in the notebook (larger labels)"
   ]
  },
  {
   "cell_type": "code",
   "execution_count": 60,
   "id": "bb2a1e8d-9079-4105-8ea7-339aa75a877c",
   "metadata": {},
   "outputs": [],
   "source": [
    "import rdkit.Chem.Draw.IPythonConsole\n",
    "rdkit.Chem.Draw.IPythonConsole.drawOptions.annotationFontScale = 0.8"
   ]
  },
  {
   "cell_type": "markdown",
   "id": "96ca1773-1a5d-46a1-9416-1a2baf607a5a",
   "metadata": {},
   "source": [
    "### Data paths"
   ]
  },
  {
   "cell_type": "code",
   "execution_count": 21,
   "id": "f35cdfea-13a7-4dbc-926c-dfac203efdd8",
   "metadata": {},
   "outputs": [],
   "source": [
    "COWDIR = pathlib.Path(\"../COW\")\n",
    "DATADIRS = {p.name[:3]: p for p in COWDIR.glob(\"V[0-9][0-9]-*\")}"
   ]
  },
  {
   "cell_type": "code",
   "execution_count": 22,
   "id": "0e46b306-b8d5-4def-942e-408cbcd2fc0b",
   "metadata": {
    "scrolled": true
   },
   "outputs": [
    {
     "data": {
      "text/plain": [
       "{'V39': PosixPath('../COW/V39-butylacetate'),\n",
       " 'V36': PosixPath('../COW/V36-methylacetate'),\n",
       " 'V46': PosixPath('../COW/V46-2-methyl-1-nitrobenzene')}"
      ]
     },
     "execution_count": 22,
     "metadata": {},
     "output_type": "execute_result"
    }
   ],
   "source": [
    "DATADIRS"
   ]
  },
  {
   "cell_type": "markdown",
   "id": "36fa5bd5-e1ea-4690-b340-526e0edcfbe1",
   "metadata": {},
   "source": [
    "## Packaged code\n",
    "\n",
    "Production code is stored in `confgen.sampler` (subject to name change...)."
   ]
  },
  {
   "cell_type": "code",
   "execution_count": 302,
   "id": "d9959e09-2892-453b-9588-87a58d3e627b",
   "metadata": {},
   "outputs": [],
   "source": [
    "import sys\n",
    "sys.path.append(\"..\")"
   ]
  },
  {
   "cell_type": "code",
   "execution_count": 307,
   "id": "67a4e97e-1719-4da5-908a-d6213ca3a309",
   "metadata": {},
   "outputs": [
    {
     "data": {
      "text/plain": [
       "<module 'confgen.chem' from '/Volumes/ASU/oliver/Projects/Methods/smallmol_conformers/notebooks/../confgen/chem.py'>"
      ]
     },
     "execution_count": 307,
     "metadata": {},
     "output_type": "execute_result"
    }
   ],
   "source": [
    "import confgen\n",
    "from confgen import sampler, chem\n",
    "\n",
    "# during development\n",
    "from importlib import reload\n",
    "reload(sampler)\n",
    "reload(chem)"
   ]
  },
  {
   "cell_type": "code",
   "execution_count": null,
   "id": "d333c338-ec31-4122-8dba-41e9f46745b4",
   "metadata": {},
   "outputs": [],
   "source": []
  },
  {
   "cell_type": "markdown",
   "id": "dc0645f0-d818-4ed4-8132-ac79c46c3930",
   "metadata": {},
   "source": [
    "### Example\n",
    "\n",
    "We will use the MDPOW input files for V36 and generate a trajectory that samples two torsions."
   ]
  },
  {
   "cell_type": "code",
   "execution_count": 220,
   "id": "999e110f-9b7f-4598-b858-497d1e032a34",
   "metadata": {},
   "outputs": [
    {
     "data": {
      "text/plain": [
       "PosixPath('../COW/V36-methylacetate')"
      ]
     },
     "execution_count": 220,
     "metadata": {},
     "output_type": "execute_result"
    }
   ],
   "source": [
    "d"
   ]
  },
  {
   "cell_type": "markdown",
   "id": "0f697cc8-ed42-4a0b-8996-4eb8088a25ff",
   "metadata": {},
   "source": [
    "Use the convenience function `load_mdpow_mol()` (otherwise, use `load_mol(universe)`):"
   ]
  },
  {
   "cell_type": "code",
   "execution_count": 221,
   "id": "f058ce6e-eb94-4f82-9d31-88aa773349aa",
   "metadata": {},
   "outputs": [
    {
     "data": {
      "image/png": "[encoded data removed]",
      "text/plain": [
       "<rdkit.Chem.rdchem.Mol at 0x1656aa110>"
      ]
     },
     "execution_count": 221,
     "metadata": {},
     "output_type": "execute_result"
    }
   ],
   "source": [
    "u, mol = sampler.load_mdpow_mol(d, add_labels=True)\n",
    "mol"
   ]
  },
  {
   "cell_type": "markdown",
   "id": "0e9e2c10-0615-47b8-9f03-6b6d4929fdb4",
   "metadata": {},
   "source": [
    "Set up dihedrals as MDAnalysis dihedral objects."
   ]
  },
  {
   "cell_type": "code",
   "execution_count": 223,
   "id": "5a0de51e-c547-4722-ae7c-e9501d2c4bfa",
   "metadata": {},
   "outputs": [],
   "source": [
    "dihedrals = [u.atoms[[7, 10, 0, 1]].dihedral,\n",
    "             u.atoms[[10, 0, 1, 3]].dihedral]"
   ]
  },
  {
   "cell_type": "markdown",
   "id": "4f940e0a-7552-4ca8-b3a4-f19a1a84e34f",
   "metadata": {},
   "source": [
    "Run the sampler; this is very fast but note that the size of the in-memory trajectory grows exponentially with increasing samples and dihedrals."
   ]
  },
  {
   "cell_type": "code",
   "execution_count": 233,
   "id": "acc81b2d-4a47-46eb-a1b8-f3666312cc9c",
   "metadata": {},
   "outputs": [
    {
     "data": {
      "application/vnd.jupyter.widget-view+json": {
       "model_id": "480745ca1da4441cac0ea5391b36b5cd",
       "version_major": 2,
       "version_minor": 0
      },
      "text/plain": [
       "  0%|          | 0/1296 [00:00<?, ?it/s]"
      ]
     },
     "metadata": {},
     "output_type": "display_data"
    }
   ],
   "source": [
    "samples = sampler.generate_conformers(mol, dihedrals, num=36)"
   ]
  },
  {
   "cell_type": "markdown",
   "id": "6dad576a-6ba8-4e2c-a708-a5f323be29a4",
   "metadata": {},
   "source": [
    "The resulting `samples` universe can now be analyzed or we can just write the conformers to a trajectory in any format that MDAnalysis can write:"
   ]
  },
  {
   "cell_type": "code",
   "execution_count": 234,
   "id": "5560fe58-3489-49b2-be65-c47ceb7cbcc4",
   "metadata": {},
   "outputs": [],
   "source": [
    "samples.atoms.write(\"conformers.trr\", frames=\"all\")"
   ]
  },
  {
   "cell_type": "code",
   "execution_count": null,
   "id": "64862146-a50f-4f33-b0a7-6113c1b8a5cd",
   "metadata": {},
   "outputs": [],
   "source": []
  },
  {
   "cell_type": "markdown",
   "id": "0aa0b903-bcdf-48a2-9fa7-3fe51ac0452c",
   "metadata": {},
   "source": [
    "## Prototype\n",
    "\n",
    "This section was used to *develop* the code. It shows step-by-step development.\n",
    "\n",
    "**For production use, refer to the packaged code in `confgen.sampler`.**"
   ]
  },
  {
   "cell_type": "code",
   "execution_count": 62,
   "id": "97676023-0b1f-4095-b13a-78e3bb01122a",
   "metadata": {},
   "outputs": [],
   "source": [
    "d = DATADIRS['V36']"
   ]
  },
  {
   "cell_type": "code",
   "execution_count": 63,
   "id": "306c83fd-e1c4-4aab-bc45-81ae76be1a94",
   "metadata": {
    "scrolled": true
   },
   "outputs": [
    {
     "data": {
      "text/plain": [
       "[PosixPath('../COW/V36-methylacetate/V36-methylacetate.pdb'),\n",
       " PosixPath('../COW/V36-methylacetate/V36-methylacetate.itp'),\n",
       " PosixPath('../COW/V36-methylacetate/V36-methylacetate.mol2'),\n",
       " PosixPath('../COW/V36-methylacetate/V36-methylacetate.smi')]"
      ]
     },
     "execution_count": 63,
     "metadata": {},
     "output_type": "execute_result"
    }
   ],
   "source": [
    "list(d.glob(\"*\"))"
   ]
  },
  {
   "cell_type": "markdown",
   "id": "9b046c85-ca9c-4912-986f-f057d748b056",
   "metadata": {},
   "source": [
    "We can't use the mol2 file because the ordering differs from the GROMACS files (PDB, TPR, trajectories). We therefore use the ITP as a minimal topology but need to guess the elements so that we can convert to RDKIT:"
   ]
  },
  {
   "cell_type": "code",
   "execution_count": 155,
   "id": "d51390cf-3124-491b-b916-e39ba9e9b238",
   "metadata": {},
   "outputs": [],
   "source": [
    "topol = list(d.glob(\"*.itp\"))[0]\n",
    "coords = list(d.glob(\"*.pdb\"))[0]\n",
    "u = mda.Universe(topol, coords)"
   ]
  },
  {
   "cell_type": "code",
   "execution_count": 126,
   "id": "93e3c323-ba49-414d-aa6f-073be2b5bede",
   "metadata": {},
   "outputs": [
    {
     "data": {
      "image/png": "[encoded data removed]",
      "text/plain": [
       "<rdkit.Chem.rdchem.Mol at 0x1641671b0>"
      ]
     },
     "execution_count": 126,
     "metadata": {},
     "output_type": "execute_result"
    }
   ],
   "source": [
    "try:\n",
    "    mol = u.atoms.convert_to(\"RDKIT\")\n",
    "except AttributeError:\n",
    "    from MDAnalysis.topology.guessers import guess_types\n",
    "    u.add_TopologyAttr('elements', guess_types(u.atoms.names))\n",
    "    mol = u.atoms.convert_to(\"RDKIT\")\n",
    "for atom in mol.GetAtoms():\n",
    "    atom.SetProp(\"atomNote\", str(atom.GetIdx()))\n",
    "mol"
   ]
  },
  {
   "cell_type": "code",
   "execution_count": 183,
   "id": "74d8a3df-8c14-4482-a7a8-9bd0711dd665",
   "metadata": {},
   "outputs": [],
   "source": [
    "def load_mol(topdir, add_labels=False):\n",
    "    \"\"\"Load Universe and RDKIT mol from MDPOW directory.\n",
    "\n",
    "    Parameters\n",
    "    ----------\n",
    "    topdir : pathlib.Path\n",
    "        top directory containing ITP and PDB file\n",
    "    add_labels : bool, optiona;\n",
    "        add MDAnalysis atom index labels to the `mol`\n",
    "\n",
    "    Returns\n",
    "    -------\n",
    "    universe : Universe\n",
    "        MDAnalysis Universe data structure\n",
    "    mol : rdkit.Chem.rdchem.Mol\n",
    "        RDKit molecule object\n",
    "    \"\"\"\n",
    "    \n",
    "    topol = list(topdir.glob(\"*.itp\"))[0]\n",
    "    coords = list(topdir.glob(\"*.pdb\"))[0]\n",
    "    u = mda.Universe(topol, coords)\n",
    "\n",
    "    try:\n",
    "        mol = u.atoms.convert_to(\"RDKIT\")\n",
    "    except AttributeError:\n",
    "        from MDAnalysis.topology.guessers import guess_types\n",
    "        u.add_TopologyAttr('elements', guess_types(u.atoms.names))\n",
    "        mol = u.atoms.convert_to(\"RDKIT\")\n",
    "    if add_labels:\n",
    "        for atom in mol.GetAtoms():\n",
    "            atom.SetProp(\"atomNote\", str(atom.GetIdx()))\n",
    "    \n",
    "    return u, mol"
   ]
  },
  {
   "cell_type": "markdown",
   "id": "94e5c919-3604-415a-b01c-41ea1992fad3",
   "metadata": {},
   "source": [
    "### Single dihedral drive"
   ]
  },
  {
   "cell_type": "markdown",
   "id": "f843221d-4fd9-4994-a1aa-1e5fcede5b7e",
   "metadata": {},
   "source": [
    "Let's get a test dihedral angle: C10-C0-O1-C3 (this should have cis/trans only)"
   ]
  },
  {
   "cell_type": "code",
   "execution_count": 127,
   "id": "3ef1e12c-e808-4734-8389-2c908a63515f",
   "metadata": {},
   "outputs": [
    {
     "data": {
      "text/plain": [
       "179.75436021525212"
      ]
     },
     "execution_count": 127,
     "metadata": {},
     "output_type": "execute_result"
    }
   ],
   "source": [
    "dih = u.atoms[[10, 0, 1, 3]].dihedral\n",
    "dih.value()"
   ]
  },
  {
   "cell_type": "code",
   "execution_count": 128,
   "id": "5d81d209-97f7-41ac-942b-8f6b041b4616",
   "metadata": {},
   "outputs": [
    {
     "data": {
      "text/plain": [
       "array([10,  0,  1,  3])"
      ]
     },
     "execution_count": 128,
     "metadata": {},
     "output_type": "execute_result"
    }
   ],
   "source": [
    "dih.atoms.indices"
   ]
  },
  {
   "cell_type": "code",
   "execution_count": 130,
   "id": "04fb36d3-2c15-4aa0-8b9f-d7be18ea7083",
   "metadata": {},
   "outputs": [],
   "source": [
    "conformer = mol.GetConformer()\n",
    "\n",
    "n_rot = 6\n",
    "phi0 = dih.value()\n",
    "phi_values = phi0 + np.linspace(0, 360, n_rot, endpoint=False)\n",
    "\n",
    "n_frames = n_rot\n",
    "trajectory = np.empty((n_frames, u.atoms.n_atoms, 3), dtype=np.float32)\n",
    "for i_frame, phi in enumerate(phi_values):\n",
    "    SetDihedralDeg(conformer, *dih.atoms.indices.tolist(), phi)\n",
    "    trajectory[i_frame] = conformer.GetPositions()"
   ]
  },
  {
   "cell_type": "markdown",
   "id": "47e486ac-e64c-42aa-9944-ab016ad2c300",
   "metadata": {},
   "source": [
    "Replace the original coordinates with the in-memory trajectory."
   ]
  },
  {
   "cell_type": "code",
   "execution_count": null,
   "id": "a7059ec9-225e-4a1d-bbdb-745d994949fb",
   "metadata": {},
   "outputs": [],
   "source": [
    "u.load_new(trajectory)\n",
    "u.atoms.write(\"torsion.trr\", frames=\"all\")"
   ]
  },
  {
   "cell_type": "markdown",
   "id": "c706c8d9-dda5-47bd-8528-cd9f0c0ce143",
   "metadata": {},
   "source": [
    "### Multiple dihedrals\n",
    "\n",
    "Create the Cartesian product of all angles."
   ]
  },
  {
   "cell_type": "code",
   "execution_count": 151,
   "id": "fa8f81a5-16c8-4ab9-b25d-7aa24cd5e099",
   "metadata": {},
   "outputs": [],
   "source": [
    "def anglespace(start, num, total=360.):\n",
    "    \"\"\"generate num-1 equally spaced angles in degree over the range total, starting at start\"\"\"\n",
    "    return start + np.linspace(0, total, num, endpoint=False)\n",
    "\n",
    "def dihedralangles(dihedral, num, **kwargs):\n",
    "    phi0 = dihedral.value()\n",
    "    return anglespace(phi0, num, **kwargs)"
   ]
  },
  {
   "cell_type": "markdown",
   "id": "4a7594e8-cce5-479e-99c5-06b85aaabb44",
   "metadata": {},
   "source": [
    "Collect all dihedrals:"
   ]
  },
  {
   "cell_type": "code",
   "execution_count": 193,
   "id": "474cd406-cb9c-44b4-ae65-17237ea984d7",
   "metadata": {},
   "outputs": [],
   "source": [
    "u, mol = load_mol(d)"
   ]
  },
  {
   "cell_type": "code",
   "execution_count": 208,
   "id": "f7466e19-5a09-4a58-a211-ff88c3b634ef",
   "metadata": {},
   "outputs": [],
   "source": [
    "dih_1 = u.atoms[[10, 0, 1, 3]].dihedral\n",
    "dih_2 = u.atoms[[7, 10, 0, 1]].dihedral\n",
    "#dih_3 = u.atoms[[0, 1, 3, 6]].dihedral\n",
    "dihedrals = [dih_2, dih_1] #, dih_3]"
   ]
  },
  {
   "cell_type": "markdown",
   "id": "4fd1ffd1-7cb9-4e64-bf4a-21ad1ddf42de",
   "metadata": {},
   "source": [
    "Compute the ranges for the dihedrals and keep in a list where the index corresponds to the dihedral in `dihedrals`:"
   ]
  },
  {
   "cell_type": "code",
   "execution_count": 209,
   "id": "cd5c5a17-b1cf-4cd5-99e3-cf0c80886013",
   "metadata": {},
   "outputs": [],
   "source": [
    "num = 36\n",
    "phi_ranges = [dihedralangles(d, num) for d in dihedrals]"
   ]
  },
  {
   "cell_type": "markdown",
   "id": "a5f82565-c7c6-4b9f-a934-400807a4b4ad",
   "metadata": {},
   "source": [
    "Generate the Cartesian product for all ranges:"
   ]
  },
  {
   "cell_type": "code",
   "execution_count": 210,
   "id": "dc85692e-4817-40b7-aca1-27677b6b3c8f",
   "metadata": {},
   "outputs": [
    {
     "data": {
      "text/plain": [
       "1296"
      ]
     },
     "execution_count": 210,
     "metadata": {},
     "output_type": "execute_result"
    }
   ],
   "source": [
    "len(list(itertools.product(*phi_ranges)))"
   ]
  },
  {
   "cell_type": "code",
   "execution_count": 211,
   "id": "8deb19fd-b756-4426-98f4-c559ade69b23",
   "metadata": {},
   "outputs": [
    {
     "data": {
      "text/plain": [
       "1296"
      ]
     },
     "execution_count": 211,
     "metadata": {},
     "output_type": "execute_result"
    }
   ],
   "source": [
    "n_frames = np.product([len(x) for x in phi_ranges])\n",
    "n_frames"
   ]
  },
  {
   "cell_type": "code",
   "execution_count": 212,
   "id": "1055e451-8522-46ea-a890-36669219ff11",
   "metadata": {},
   "outputs": [],
   "source": [
    "trajectory = np.empty((n_frames, u.atoms.n_atoms, 3), dtype=np.float32)"
   ]
  },
  {
   "cell_type": "code",
   "execution_count": 213,
   "id": "d97816bb-a932-4c63-99f6-bd60be3e5cad",
   "metadata": {},
   "outputs": [],
   "source": [
    "conformer = mol.GetConformer()\n",
    "\n",
    "for i_frame, phis in enumerate(itertools.product(*phi_ranges)):\n",
    "    # set all dihedrals\n",
    "    for dih, phi in zip(dihedrals, phis):\n",
    "        SetDihedralDeg(conformer, *dih.atoms.indices.tolist(), phi)\n",
    "    trajectory[i_frame] = conformer.GetPositions()"
   ]
  },
  {
   "cell_type": "markdown",
   "id": "cfec8fc7-d9c3-48b2-9910-8d7068938214",
   "metadata": {},
   "source": [
    "Replace the original coordinates with the in-memory trajectory."
   ]
  },
  {
   "cell_type": "code",
   "execution_count": 214,
   "id": "5c933380-66db-4452-b56d-fd0fa8da68ba",
   "metadata": {},
   "outputs": [],
   "source": [
    "u.load_new(trajectory)\n",
    "u.atoms.write(\"torsion.trr\", frames=\"all\")"
   ]
  },
  {
   "cell_type": "markdown",
   "id": "41faabb6-eb07-4e47-8ca2-c258ce4870a5",
   "metadata": {},
   "source": [
    "The trajectory rotates through the dihedrals as expected, as visualized in VMD."
   ]
  },
  {
   "cell_type": "markdown",
   "id": "e5e01d7f-7cef-46dd-941a-85e88589522c",
   "metadata": {},
   "source": [
    "### Automatic dihedral extraction\n",
    "\n",
    "Based on Cade's code."
   ]
  },
  {
   "cell_type": "code",
   "execution_count": 236,
   "id": "42b971f6-1315-419b-a4e2-e30279384ad8",
   "metadata": {},
   "outputs": [],
   "source": [
    "SMARTS = '[!#1]~[!$(*#*)&!D1]-!@[!$(*#*)&!D1]~[!#1]'\n",
    "pattern = rdkit.Chem.MolFromSmarts(SMARTS)"
   ]
  },
  {
   "cell_type": "code",
   "execution_count": 237,
   "id": "ddd505a5-a49b-4e02-86e1-f21bbc73bf31",
   "metadata": {},
   "outputs": [],
   "source": [
    "atom_indices = mol.GetSubstructMatches(pattern)"
   ]
  },
  {
   "cell_type": "code",
   "execution_count": 238,
   "id": "941afc2b-0272-4511-afcd-1205e8b071ad",
   "metadata": {},
   "outputs": [
    {
     "data": {
      "text/plain": [
       "((2, 0, 1, 3), (3, 1, 0, 10))"
      ]
     },
     "execution_count": 238,
     "metadata": {},
     "output_type": "execute_result"
    }
   ],
   "source": [
    "atom_indices"
   ]
  },
  {
   "cell_type": "markdown",
   "id": "7c11d80c-57c0-44be-b00f-beb5adc39d8b",
   "metadata": {},
   "source": [
    "Note that this essentially the same torsion because it contains the central bond between 0 - 1.\n",
    "\n",
    "We should find a way to remove those torsions."
   ]
  },
  {
   "cell_type": "markdown",
   "id": "cdd56ba5-e494-4b9c-add0-6ae018a624a2",
   "metadata": {},
   "source": [
    "Test dihedrals"
   ]
  },
  {
   "cell_type": "code",
   "execution_count": 286,
   "id": "92a89d16-1433-474e-965c-cef4698f71b6",
   "metadata": {},
   "outputs": [],
   "source": [
    "dhs = np.array([(3, 1, 0, 10), (0, 1, 3, 6), (2, 0, 1, 3), (7, 10, 0, 1)])"
   ]
  },
  {
   "cell_type": "code",
   "execution_count": 287,
   "id": "916030ac-8ff4-4382-9678-aad52b3989ac",
   "metadata": {},
   "outputs": [
    {
     "data": {
      "text/plain": [
       "array([[ 3,  1,  0, 10],\n",
       "       [ 0,  1,  3,  6],\n",
       "       [ 2,  0,  1,  3],\n",
       "       [ 7, 10,  0,  1]])"
      ]
     },
     "execution_count": 287,
     "metadata": {},
     "output_type": "execute_result"
    }
   ],
   "source": [
    "dhs"
   ]
  },
  {
   "cell_type": "code",
   "execution_count": 290,
   "id": "05fc043c-d64f-4fd2-a42d-b1d2d9925fc7",
   "metadata": {},
   "outputs": [
    {
     "data": {
      "text/plain": [
       "array([[ 0,  1],\n",
       "       [ 1,  3],\n",
       "       [ 0,  1],\n",
       "       [ 0, 10]])"
      ]
     },
     "execution_count": 290,
     "metadata": {},
     "output_type": "execute_result"
    }
   ],
   "source": [
    "sorted_centrals = np.sort(dhs[:, 1:3], axis=1)\n",
    "sorted_centrals"
   ]
  },
  {
   "cell_type": "code",
   "execution_count": 291,
   "id": "add14a57-98d3-4a2f-89c2-0055d6ef119e",
   "metadata": {},
   "outputs": [
    {
     "data": {
      "text/plain": [
       "array([0, 3, 1])"
      ]
     },
     "execution_count": 291,
     "metadata": {},
     "output_type": "execute_result"
    }
   ],
   "source": [
    "unique_bonds, dihedral_indices = np.unique(sorted_centrals, axis=0, return_index=True)\n",
    "dihedral_indices"
   ]
  },
  {
   "cell_type": "markdown",
   "id": "f5fe5d59-a571-433b-9995-1189420d4896",
   "metadata": {},
   "source": [
    "The `dihedral_indices` are the unique torsions in `dhs`:"
   ]
  },
  {
   "cell_type": "code",
   "execution_count": 292,
   "id": "f9304711-20f6-45b8-85c8-721bb0cdbd6c",
   "metadata": {},
   "outputs": [
    {
     "data": {
      "text/plain": [
       "array([[ 3,  1,  0, 10],\n",
       "       [ 7, 10,  0,  1],\n",
       "       [ 0,  1,  3,  6]])"
      ]
     },
     "execution_count": 292,
     "metadata": {},
     "output_type": "execute_result"
    }
   ],
   "source": [
    "dhs[dihedral_indices]"
   ]
  },
  {
   "cell_type": "markdown",
   "id": "e2bcdcb6-dbcd-4f2b-8b50-8e79aff0e6e8",
   "metadata": {},
   "source": [
    "Package the code above into functions in `confgen.chem`:"
   ]
  },
  {
   "cell_type": "code",
   "execution_count": 305,
   "id": "a0ad896e-844f-4f6e-813f-089aa646e38e",
   "metadata": {},
   "outputs": [],
   "source": [
    "from confgen import chem"
   ]
  },
  {
   "cell_type": "code",
   "execution_count": 308,
   "id": "acc405b7-5f32-4354-a5e9-92b4d61035cb",
   "metadata": {},
   "outputs": [
    {
     "data": {
      "text/plain": [
       "array([[ 3,  1,  0, 10],\n",
       "       [ 7, 10,  0,  1],\n",
       "       [ 0,  1,  3,  6]])"
      ]
     },
     "execution_count": 308,
     "metadata": {},
     "output_type": "execute_result"
    }
   ],
   "source": [
    "chem.unique_torsions(dhs)"
   ]
  },
  {
   "cell_type": "code",
   "execution_count": 309,
   "id": "ae1c2cfb-5c2c-47cc-b8d3-34953e39fde9",
   "metadata": {},
   "outputs": [
    {
     "data": {
      "text/plain": [
       "array([[2, 0, 1, 3]])"
      ]
     },
     "execution_count": 309,
     "metadata": {},
     "output_type": "execute_result"
    }
   ],
   "source": [
    "find_dihedral_indices(mol)"
   ]
  },
  {
   "cell_type": "code",
   "execution_count": 310,
   "id": "b7e64238-80a6-4a26-a75f-93cb77ffaf7a",
   "metadata": {},
   "outputs": [
    {
     "data": {
      "text/plain": [
       "((2, 0, 1, 3), (3, 1, 0, 10))"
      ]
     },
     "execution_count": 310,
     "metadata": {},
     "output_type": "execute_result"
    }
   ],
   "source": [
    "find_dihedral_indices(mol, unique=False)"
   ]
  },
  {
   "cell_type": "markdown",
   "id": "3b30e18f-fe86-4ce6-b4c0-bf9d417d8310",
   "metadata": {},
   "source": [
    "Now make dihedral objects:"
   ]
  },
  {
   "cell_type": "code",
   "execution_count": 312,
   "id": "b1882754-456e-4303-a049-5d06ab740262",
   "metadata": {},
   "outputs": [],
   "source": [
    "dihedral_indices = find_dihedral_indices(mol)\n",
    "dihedrals = [u.atoms[indices].dihedral for indices in dihedral_indices]"
   ]
  },
  {
   "cell_type": "code",
   "execution_count": 313,
   "id": "0e243997-37c3-44bd-b0a7-5880fd935c62",
   "metadata": {},
   "outputs": [
    {
     "data": {
      "text/plain": [
       "[<Dihedral between: Atom 2, Atom 0, Atom 1, Atom 3>]"
      ]
     },
     "execution_count": 313,
     "metadata": {},
     "output_type": "execute_result"
    }
   ],
   "source": [
    "dihedrals"
   ]
  },
  {
   "cell_type": "code",
   "execution_count": null,
   "id": "b6154731-151d-4a02-9c70-e7f3244c3529",
   "metadata": {},
   "outputs": [],
   "source": []
  }
 ],
 "metadata": {
  "kernelspec": {
   "display_name": "Python 3 (ipykernel)",
   "language": "python",
   "name": "python3"
  },
  "language_info": {
   "codemirror_mode": {
    "name": "ipython",
    "version": 3
   },
   "file_extension": ".py",
   "mimetype": "text/x-python",
   "name": "python",
   "nbconvert_exporter": "python",
   "pygments_lexer": "ipython3",
   "version": "3.10.0"
  }
 },
 "nbformat": 4,
 "nbformat_minor": 5
}
