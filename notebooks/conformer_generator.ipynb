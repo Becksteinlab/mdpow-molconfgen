{
 "cells": [
  {
   "cell_type": "markdown",
   "id": "0aba1a98-b121-4eb3-8f91-8c62288e6db4",
   "metadata": {},
   "source": [
    "# Conformer generation for small molecules\n",
    "\n",
    "## Background ##\n",
    "### Algorithm ###\n",
    "\n",
    "Given a list of $N$ dihedral angles (torsions) `dihedrals`\n",
    "\n",
    "1. generate all conformers by rotating all torsions in increments $\\delta\\phi$ for a total of $(2\\pi/\\delta\\phi)^N$ conformers (cartesian product)\n",
    "2. write to a trajectory\n",
    "\n",
    "### Implementation notes ###\n",
    "\n",
    "1. Load molecules with MDAnalysis.\n",
    "2. Convert to RDKit molecule.\n",
    "3. Perform torsion drive with [rdkit.Chem.rdMolTransforms](https://www.rdkit.org/docs/source/rdkit.Chem.rdMolTransforms.html)\n",
    "\n",
    "```\n",
    "rdkit.Chem.rdMolTransforms.SetDihedralDeg((Conformer)arg1, (int)arg2, (int)arg3, (int)arg4, (int)arg5, (float)arg6) → None :\n",
    "\n",
    "    Sets the dihedral angle in degrees between atoms i, j, k, l; all atoms bonded to atom l are moved\n",
    "```\n",
    "\n",
    "### Initial test data ###\n",
    "#### COW dataset ####\n",
    "\n",
    "`/Users/oliver/Projects/Methods/SAMPL5/sampl5-distribution-water-cyclohexane/11_validation_dataset92`\n",
    "\n",
    "- V36-methylacetate : 1 dihedral\n",
    "- V46-2-methyl-1-nitrobenzene : steric hindrance\n",
    "- V39-butylacetate : 4 dihedrals\n"
   ]
  },
  {
   "cell_type": "markdown",
   "id": "d30854da-5127-4d06-8722-23075a5a4745",
   "metadata": {},
   "source": [
    "## Setup\n",
    "### Packages"
   ]
  },
  {
   "cell_type": "markdown",
   "id": "5053e97a-c572-499b-bb09-17da4b234b70",
   "metadata": {},
   "source": [
    "The packages do not need to be explictly imported because `confgen` does all importing. However, it's still useful to make sure that these packages are available:"
   ]
  },
  {
   "cell_type": "code",
   "execution_count": 1,
   "id": "ae79bbd7-6c62-46b9-a998-eef8a78b256b",
   "metadata": {},
   "outputs": [],
   "source": [
    "import MDAnalysis as mda\n",
    "import rdkit\n",
    "import rdkit.Chem.rdMolTransforms\n",
    "from rdkit.Chem.rdMolTransforms import SetDihedralDeg\n",
    "import numpy as np\n",
    "\n",
    "import itertools"
   ]
  },
  {
   "cell_type": "code",
   "execution_count": 2,
   "id": "1dad0cff-2997-4a29-acff-12a41079c943",
   "metadata": {},
   "outputs": [
    {
     "name": "stdout",
     "output_type": "stream",
     "text": [
      "2.5.0\n",
      "2023.03.2\n"
     ]
    }
   ],
   "source": [
    "print(mda.__version__)\n",
    "print(rdkit.__version__)"
   ]
  },
  {
   "cell_type": "markdown",
   "id": "2238d33d-ff24-49b4-a566-8927f6fa4cde",
   "metadata": {},
   "source": [
    "Nicer RDKit output in the notebook (larger labels)"
   ]
  },
  {
   "cell_type": "code",
   "execution_count": 3,
   "id": "bb2a1e8d-9079-4105-8ea7-339aa75a877c",
   "metadata": {},
   "outputs": [],
   "source": [
    "import rdkit.Chem.Draw.IPythonConsole\n",
    "rdkit.Chem.Draw.IPythonConsole.drawOptions.annotationFontScale = 0.8"
   ]
  },
  {
   "cell_type": "markdown",
   "id": "96ca1773-1a5d-46a1-9416-1a2baf607a5a",
   "metadata": {},
   "source": [
    "### Data paths"
   ]
  },
  {
   "cell_type": "markdown",
   "id": "22965351-b5d4-4493-ba34-58e82fd819d8",
   "metadata": {},
   "source": [
    "Functions work with `pathlib.Path` instances:"
   ]
  },
  {
   "cell_type": "code",
   "execution_count": 4,
   "id": "27802a0c-39ef-4c16-8246-c9484589e152",
   "metadata": {},
   "outputs": [],
   "source": [
    "import pathlib"
   ]
  },
  {
   "cell_type": "code",
   "execution_count": 5,
   "id": "f35cdfea-13a7-4dbc-926c-dfac203efdd8",
   "metadata": {},
   "outputs": [],
   "source": [
    "COWDIR = pathlib.Path(\"./COW\")\n",
    "DATADIRS = {p.name[:3]: p for p in COWDIR.glob(\"V[0-9][0-9]-*\")}"
   ]
  },
  {
   "cell_type": "code",
   "execution_count": 6,
   "id": "0e46b306-b8d5-4def-942e-408cbcd2fc0b",
   "metadata": {
    "scrolled": true
   },
   "outputs": [
    {
     "data": {
      "text/plain": [
       "{'V39': PosixPath('COW/V39-butylacetate'),\n",
       " 'V36': PosixPath('COW/V36-methylacetate'),\n",
       " 'V46': PosixPath('COW/V46-2-methyl-1-nitrobenzene')}"
      ]
     },
     "execution_count": 6,
     "metadata": {},
     "output_type": "execute_result"
    }
   ],
   "source": [
    "DATADIRS"
   ]
  },
  {
   "cell_type": "markdown",
   "id": "36fa5bd5-e1ea-4690-b340-526e0edcfbe1",
   "metadata": {},
   "source": [
    "## Using `molconfgen`\n",
    "\n",
    "Production code is stored in the `molconfgen` package (subject to name change...)."
   ]
  },
  {
   "cell_type": "markdown",
   "id": "81c291d7-8564-45f9-a504-d05e415013df",
   "metadata": {},
   "source": [
    "At the moment, the package is not installable so just add its location to the path:"
   ]
  },
  {
   "cell_type": "code",
   "execution_count": 7,
   "id": "d9959e09-2892-453b-9588-87a58d3e627b",
   "metadata": {},
   "outputs": [],
   "source": [
    "import sys\n",
    "sys.path.append(\"..\")"
   ]
  },
  {
   "cell_type": "code",
   "execution_count": 8,
   "id": "67a4e97e-1719-4da5-908a-d6213ca3a309",
   "metadata": {},
   "outputs": [],
   "source": [
    "import molconfgen\n",
    "from molconfgen import sampler, chem"
   ]
  },
  {
   "cell_type": "markdown",
   "id": "cfc63435-7dac-4202-938b-7732a4e85c9e",
   "metadata": {},
   "source": [
    "During development it is useful to be reload the packages with edits."
   ]
  },
  {
   "cell_type": "code",
   "execution_count": 9,
   "id": "8d15b91a-96a2-45ad-b55b-f1412c066b89",
   "metadata": {},
   "outputs": [
    {
     "data": {
      "text/plain": [
       "<module 'molconfgen.chem' from '/Volumes/ASU/oliver/Projects/Methods/smallmol_conformers/notebooks/../molconfgen/chem.py'>"
      ]
     },
     "execution_count": 9,
     "metadata": {},
     "output_type": "execute_result"
    }
   ],
   "source": [
    "# during development\n",
    "from importlib import reload\n",
    "reload(sampler)\n",
    "reload(chem)"
   ]
  },
  {
   "cell_type": "markdown",
   "id": "dc0645f0-d818-4ed4-8132-ac79c46c3930",
   "metadata": {},
   "source": [
    "### Sampling with custom dihedrals\n",
    "\n",
    "We will use the MDPOW input files for V36 and generate a trajectory that samples two torsions that we select explicitly ourselves."
   ]
  },
  {
   "cell_type": "code",
   "execution_count": 10,
   "id": "999e110f-9b7f-4598-b858-497d1e032a34",
   "metadata": {},
   "outputs": [
    {
     "data": {
      "text/plain": [
       "PosixPath('COW/V36-methylacetate')"
      ]
     },
     "execution_count": 10,
     "metadata": {},
     "output_type": "execute_result"
    }
   ],
   "source": [
    "d = DATADIRS['V36']\n",
    "d"
   ]
  },
  {
   "cell_type": "markdown",
   "id": "0f697cc8-ed42-4a0b-8996-4eb8088a25ff",
   "metadata": {},
   "source": [
    "Use the convenience function `load_mdpow_mol()` (otherwise, use `load_mol(universe)`):"
   ]
  },
  {
   "cell_type": "code",
   "execution_count": 11,
   "id": "f058ce6e-eb94-4f82-9d31-88aa773349aa",
   "metadata": {},
   "outputs": [
    {
     "data": {
      "image/png": "[encoded data removed]",
      "text/plain": [
       "<rdkit.Chem.rdchem.Mol at 0x1660213f0>"
      ]
     },
     "execution_count": 11,
     "metadata": {},
     "output_type": "execute_result"
    }
   ],
   "source": [
    "u, mol = chem.load_mdpow_mol(d, add_labels=True)\n",
    "mol"
   ]
  },
  {
   "cell_type": "markdown",
   "id": "0e9e2c10-0615-47b8-9f03-6b6d4929fdb4",
   "metadata": {},
   "source": [
    "Set up dihedrals as MDAnalysis dihedral objects."
   ]
  },
  {
   "cell_type": "code",
   "execution_count": 12,
   "id": "5a0de51e-c547-4722-ae7c-e9501d2c4bfa",
   "metadata": {},
   "outputs": [],
   "source": [
    "dihedrals = [u.atoms[[7, 10, 0, 1]].dihedral,\n",
    "             u.atoms[[10, 0, 1, 3]].dihedral]"
   ]
  },
  {
   "cell_type": "markdown",
   "id": "4f940e0a-7552-4ca8-b3a4-f19a1a84e34f",
   "metadata": {},
   "source": [
    "Run the sampler; this is very fast but note that the size of the in-memory trajectory grows exponentially with increasing samples and dihedrals."
   ]
  },
  {
   "cell_type": "code",
   "execution_count": 13,
   "id": "acc81b2d-4a47-46eb-a1b8-f3666312cc9c",
   "metadata": {},
   "outputs": [
    {
     "data": {
      "application/vnd.jupyter.widget-view+json": {
       "model_id": "014ed3dd63cf4f00bffa22dbc55f75cb",
       "version_major": 2,
       "version_minor": 0
      },
      "text/plain": [
       "  0%|          | 0/1296 [00:00<?, ?it/s]"
      ]
     },
     "metadata": {},
     "output_type": "display_data"
    }
   ],
   "source": [
    "samples = sampler.generate_conformers(mol, dihedrals, num=36)"
   ]
  },
  {
   "cell_type": "markdown",
   "id": "6dad576a-6ba8-4e2c-a708-a5f323be29a4",
   "metadata": {},
   "source": [
    "The resulting `samples` universe can now be analyzed or we can just write the conformers to a trajectory in any format that MDAnalysis can write:"
   ]
  },
  {
   "cell_type": "code",
   "execution_count": 14,
   "id": "5560fe58-3489-49b2-be65-c47ceb7cbcc4",
   "metadata": {},
   "outputs": [],
   "source": [
    "samples.atoms.write(\"conformers.trr\", frames=\"all\")"
   ]
  },
  {
   "cell_type": "code",
   "execution_count": null,
   "id": "64862146-a50f-4f33-b0a7-6113c1b8a5cd",
   "metadata": {},
   "outputs": [],
   "source": []
  },
  {
   "cell_type": "markdown",
   "id": "0d431b8e-1687-4a84-bcef-8acb6e945c81",
   "metadata": {},
   "source": [
    "### Sampling with automatically extracted dihedrals"
   ]
  },
  {
   "cell_type": "markdown",
   "id": "52aae3e1-9bff-4a3f-b0f7-39bfa893dfe3",
   "metadata": {},
   "source": [
    "#### single dihedral (V36)\n",
    "Here we show the process, step by step:"
   ]
  },
  {
   "cell_type": "code",
   "execution_count": 15,
   "id": "97805565-1b7e-4573-96d4-cb331b2f8231",
   "metadata": {},
   "outputs": [
    {
     "data": {
      "image/png": "[encoded data removed]",
      "text/plain": [
       "<rdkit.Chem.rdchem.Mol at 0x166022810>"
      ]
     },
     "execution_count": 15,
     "metadata": {},
     "output_type": "execute_result"
    }
   ],
   "source": [
    "molid = \"V36\"\n",
    "u, mol = chem.load_mdpow_mol(DATADIRS[molid], add_labels=True)\n",
    "mol"
   ]
  },
  {
   "cell_type": "markdown",
   "id": "608a63d0-9e01-4351-a58b-1fc3c8d59667",
   "metadata": {},
   "source": [
    "Step-by-step process:\n",
    "1. use RDKIT for getting dihedral indices\n",
    "2. index the MDAnalysis atoms to get dihedrals"
   ]
  },
  {
   "cell_type": "code",
   "execution_count": 16,
   "id": "e08e4cee-d5f9-45ca-aad4-03bfbffa30ad",
   "metadata": {
    "scrolled": true
   },
   "outputs": [
    {
     "data": {
      "text/plain": [
       "[<Dihedral between: Atom 2, Atom 0, Atom 1, Atom 3>]"
      ]
     },
     "execution_count": 16,
     "metadata": {},
     "output_type": "execute_result"
    }
   ],
   "source": [
    "dh_ix = chem.find_dihedral_indices(mol)\n",
    "dihedrals = [u.atoms[indices].dihedral for indices in dh_ix]\n",
    "dihedrals"
   ]
  },
  {
   "cell_type": "markdown",
   "id": "a1461faf-726b-482d-9359-c2caac6b4283",
   "metadata": {},
   "source": [
    "Run the sampler:"
   ]
  },
  {
   "cell_type": "code",
   "execution_count": 17,
   "id": "0ac3ff57-0b88-4168-9372-6c1bb7e29009",
   "metadata": {},
   "outputs": [
    {
     "data": {
      "application/vnd.jupyter.widget-view+json": {
       "model_id": "5db93a4168f24e8b83f68a8a586a15d4",
       "version_major": 2,
       "version_minor": 0
      },
      "text/plain": [
       "  0%|          | 0/12 [00:00<?, ?it/s]"
      ]
     },
     "metadata": {},
     "output_type": "display_data"
    }
   ],
   "source": [
    "conformers = sampler.generate_conformers(mol, dihedrals)"
   ]
  },
  {
   "cell_type": "markdown",
   "id": "4c2dba37-1b7b-47da-a5dc-c2188b2ebb01",
   "metadata": {},
   "source": [
    "Write trajectory for downstream processing:"
   ]
  },
  {
   "cell_type": "code",
   "execution_count": 18,
   "id": "76d3ef4e-4a97-4907-bd96-1ec580ad05ba",
   "metadata": {},
   "outputs": [],
   "source": [
    "conformers.atoms.write(f\"{molid}_conformers.trr\", frames=\"all\")"
   ]
  },
  {
   "cell_type": "markdown",
   "id": "a82220e1-b5f7-429f-9a6f-e04756427156",
   "metadata": {},
   "source": [
    "#### multiple dihedrals (V39)\n",
    "\n",
    "Combining multiple steps and making use of higher level functions:"
   ]
  },
  {
   "cell_type": "code",
   "execution_count": 19,
   "id": "ef22024c-f8fc-4a80-ade9-21c839dd24d8",
   "metadata": {},
   "outputs": [
    {
     "data": {
      "image/png": "[encoded data removed]",
      "text/plain": [
       "<rdkit.Chem.rdchem.Mol at 0x1660215b0>"
      ]
     },
     "execution_count": 19,
     "metadata": {},
     "output_type": "execute_result"
    }
   ],
   "source": [
    "molid = \"V39\"\n",
    "u, mol = chem.load_mdpow_mol(DATADIRS[molid], add_labels=True)\n",
    "mol"
   ]
  },
  {
   "cell_type": "code",
   "execution_count": 20,
   "id": "1db4109b-43b0-4444-9fab-af6e0adb0dcb",
   "metadata": {},
   "outputs": [
    {
     "name": "stdout",
     "output_type": "stream",
     "text": [
      "[<Dihedral between: Atom 2, Atom 0, Atom 1, Atom 3>, <Dihedral between: Atom 0, Atom 1, Atom 3, Atom 14>, <Dihedral between: Atom 1, Atom 3, Atom 14, Atom 17>, <Dihedral between: Atom 3, Atom 14, Atom 17, Atom 9>]\n"
     ]
    },
    {
     "data": {
      "application/vnd.jupyter.widget-view+json": {
       "model_id": "4904996caf0349aba87cf85957ad9483",
       "version_major": 2,
       "version_minor": 0
      },
      "text/plain": [
       "  0%|          | 0/20736 [00:00<?, ?it/s]"
      ]
     },
     "metadata": {},
     "output_type": "display_data"
    }
   ],
   "source": [
    "dihedrals = chem.find_dihedrals(mol, u)\n",
    "print(dihedrals)\n",
    "\n",
    "conformers = sampler.generate_conformers(mol, dihedrals)\n",
    "conformers.atoms.write(f\"{molid}_conformers.trr\", frames=\"all\")"
   ]
  },
  {
   "cell_type": "markdown",
   "id": "33730fb0-2f54-41c8-b282-11d30f653c99",
   "metadata": {},
   "source": [
    "#### Complete example (V46)\n",
    "Run everything in one go with a convenience function:"
   ]
  },
  {
   "cell_type": "code",
   "execution_count": 21,
   "id": "69ca6fb4-55f4-4f3e-b392-e3ac133bb3d9",
   "metadata": {},
   "outputs": [],
   "source": [
    "def run_sampler(molid, num=12):\n",
    "    topdir = DATADIRS[molid]\n",
    "    u, mol = chem.load_mdpow_mol(topdir, add_labels=True)\n",
    "    dihedrals = chem.find_dihedrals(mol, u)\n",
    "\n",
    "    conformers = sampler.generate_conformers(mol, dihedrals, num=num)\n",
    "    filename = f\"{molid}_conformers.trr\"\n",
    "    conformers.atoms.write(filename, frames=\"all\")\n",
    "\n",
    "    return u, mol, dihedrals, filename"
   ]
  },
  {
   "cell_type": "code",
   "execution_count": 22,
   "id": "e14da53d-9371-4d1c-b20a-939df8789207",
   "metadata": {},
   "outputs": [
    {
     "data": {
      "application/vnd.jupyter.widget-view+json": {
       "model_id": "5de26c6d7158485c8cf407b50fcab9bc",
       "version_major": 2,
       "version_minor": 0
      },
      "text/plain": [
       "  0%|          | 0/36 [00:00<?, ?it/s]"
      ]
     },
     "metadata": {},
     "output_type": "display_data"
    },
    {
     "name": "stdout",
     "output_type": "stream",
     "text": [
      "[<Dihedral between: Atom 2, Atom 1, Atom 0, Atom 4>]\n",
      "V46_conformers.trr\n"
     ]
    },
    {
     "data": {
      "image/png": "[encoded data removed]",
      "text/plain": [
       "<rdkit.Chem.rdchem.Mol at 0x166021e00>"
      ]
     },
     "execution_count": 22,
     "metadata": {},
     "output_type": "execute_result"
    }
   ],
   "source": [
    "u, mol, dihedrals, filename = run_sampler(\"V46\", num=36)\n",
    "print(dihedrals)\n",
    "print(filename)\n",
    "mol"
   ]
  }
 ],
 "metadata": {
  "kernelspec": {
   "display_name": "Python 3 (ipykernel)",
   "language": "python",
   "name": "python3"
  },
  "language_info": {
   "codemirror_mode": {
    "name": "ipython",
    "version": 3
   },
   "file_extension": ".py",
   "mimetype": "text/x-python",
   "name": "python",
   "nbconvert_exporter": "python",
   "pygments_lexer": "ipython3",
   "version": "3.10.0"
  }
 },
 "nbformat": 4,
 "nbformat_minor": 5
}
